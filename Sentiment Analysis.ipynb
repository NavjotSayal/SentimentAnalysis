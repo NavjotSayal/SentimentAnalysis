{
 "cells": [
  {
   "cell_type": "markdown",
   "id": "4e0dd9f2-9dec-482e-ac9e-9a172526eda4",
   "metadata": {},
   "source": [
    "# 📰 Sentiment Analysis of Google News Headlines\n",
    "\n",
    "This notebook demonstrates how to scrape headlines from **Google News**, perform **sentiment analysis** using the `TextBlob` library, and export the results to a CSV file for further analysis or visualization (e.g., in Power BI).\n",
    "\n",
    "### 🔧 Tools Used:\n",
    "- `requests`, `BeautifulSoup`: Web scraping\n",
    "- `pandas`: Data handling\n",
    "- `TextBlob`: Sentiment polarity scoring\n",
    "- `datetime`: Timestamping entries\n"
   ]
  },
  {
   "cell_type": "markdown",
   "id": "a9560383-0c3d-498b-8d90-1b107017c38e",
   "metadata": {},
   "source": [
    "## Import Libraries"
   ]
  },
  {
   "cell_type": "code",
   "execution_count": 41,
   "id": "e1a7cdff-4a07-4422-b30c-ed1476e8309b",
   "metadata": {},
   "outputs": [],
   "source": [
    "from bs4 import BeautifulSoup\n",
    "import requests\n",
    "import pandas as pd\n",
    "from textblob import TextBlob\n",
    "import datetime"
   ]
  },
  {
   "cell_type": "markdown",
   "id": "70c84b8d-0b5c-424e-99c6-dd1f139b9337",
   "metadata": {},
   "source": [
    "## Define the Scraper Function"
   ]
  },
  {
   "cell_type": "code",
   "execution_count": 57,
   "id": "2a780dfd-af3a-43dc-a6c9-1632c9a866e4",
   "metadata": {},
   "outputs": [],
   "source": [
    "def scrape_google_news():\n",
    "    import requests\n",
    "    from bs4 import BeautifulSoup\n",
    "    from textblob import TextBlob\n",
    "    import pandas as pd\n",
    "\n",
    "    url = \"https://news.google.com/rss?hl=en-US&gl=US&ceid=US:en\"\n",
    "    headers = {'User-Agent': 'Mozilla/5.0'}\n",
    "\n",
    "    try:\n",
    "        response = requests.get(url, headers=headers, timeout=10)\n",
    "        soup = BeautifulSoup(response.content, \"html.parser\")\n",
    "\n",
    "        news_data = []\n",
    "        items = soup.find_all(\"item\")\n",
    "\n",
    "        for item in items:\n",
    "            title = item.title.text if item.title else None\n",
    "            link = item.find(\"guid\").text if item.find(\"guid\") else None\n",
    "            pub_date = item.find(\"pubdate\").text if item.find(\"pubdate\") else None\n",
    "\n",
    "            if not title:\n",
    "                continue\n",
    "\n",
    "            sentiment = round(TextBlob(title).sentiment.polarity, 4)\n",
    "\n",
    "            news_data.append({\n",
    "                \"timestamp\": pub_date,\n",
    "                \"headline\": title,\n",
    "                \"link\": link,\n",
    "                \"sentiment\": sentiment\n",
    "            })\n",
    "\n",
    "        print(f\"📰 Scraped {len(news_data)} headlines\")\n",
    "        return pd.DataFrame(news_data)\n",
    "\n",
    "    except requests.RequestException as e:\n",
    "        print(f\"🚨 Request failed: {e}\")\n",
    "        return pd.DataFrame()\n"
   ]
  },
  {
   "cell_type": "markdown",
   "id": "4265efaf-b874-4f93-be92-188d7a28c526",
   "metadata": {},
   "source": [
    "## Scrape & Display Headlines"
   ]
  },
  {
   "cell_type": "code",
   "execution_count": 58,
   "id": "22c59708-4124-4ccf-9148-bed870b7c7b7",
   "metadata": {},
   "outputs": [
    {
     "name": "stdout",
     "output_type": "stream",
     "text": [
      "📰 Scraped 38 headlines\n"
     ]
    },
    {
     "data": {
      "text/html": [
       "<div>\n",
       "<style scoped>\n",
       "    .dataframe tbody tr th:only-of-type {\n",
       "        vertical-align: middle;\n",
       "    }\n",
       "\n",
       "    .dataframe tbody tr th {\n",
       "        vertical-align: top;\n",
       "    }\n",
       "\n",
       "    .dataframe thead th {\n",
       "        text-align: right;\n",
       "    }\n",
       "</style>\n",
       "<table border=\"1\" class=\"dataframe\">\n",
       "  <thead>\n",
       "    <tr style=\"text-align: right;\">\n",
       "      <th></th>\n",
       "      <th>timestamp</th>\n",
       "      <th>headline</th>\n",
       "      <th>link</th>\n",
       "      <th>sentiment</th>\n",
       "    </tr>\n",
       "  </thead>\n",
       "  <tbody>\n",
       "    <tr>\n",
       "      <th>0</th>\n",
       "      <td>Wed, 26 Mar 2025 19:46:07 GMT</td>\n",
       "      <td>'F-18s LAUNCH': Atlantic publishes purported Y...</td>\n",
       "      <td>CBMiqAFBVV95cUxPdFBWcldkdnJodXFCQWp6YVBJSGZlV1...</td>\n",
       "      <td>0.0000</td>\n",
       "    </tr>\n",
       "    <tr>\n",
       "      <th>1</th>\n",
       "      <td>Wed, 26 Mar 2025 20:59:44 GMT</td>\n",
       "      <td>Alien Enemies Act deportations blocked by appe...</td>\n",
       "      <td>CBMigAFBVV95cUxONDlSbGtZbC1CS0VwbUU4VjQxOWJLUV...</td>\n",
       "      <td>-0.2500</td>\n",
       "    </tr>\n",
       "    <tr>\n",
       "      <th>2</th>\n",
       "      <td>Wed, 26 Mar 2025 19:49:56 GMT</td>\n",
       "      <td>Tufts international graduate student taken int...</td>\n",
       "      <td>CBMipAFBVV95cUxPbUI2Z1V6N0VxNEUxUUkteTZaeHd0dj...</td>\n",
       "      <td>0.0000</td>\n",
       "    </tr>\n",
       "    <tr>\n",
       "      <th>3</th>\n",
       "      <td>Wed, 26 Mar 2025 17:22:00 GMT</td>\n",
       "      <td>Trump administration pulls back billions in Co...</td>\n",
       "      <td>CBMijgFBVV95cUxNbnNtZk1nQmZlZXRvd0pXOEhtLTFoOV...</td>\n",
       "      <td>0.0000</td>\n",
       "    </tr>\n",
       "    <tr>\n",
       "      <th>4</th>\n",
       "      <td>Wed, 26 Mar 2025 22:29:03 GMT</td>\n",
       "      <td>Trump floats tariff reduction if China agrees ...</td>\n",
       "      <td>CBMiuwFBVV95cUxQYzYtSXBGc2ZidGZCQXhUNnBPZTVNUl...</td>\n",
       "      <td>0.0000</td>\n",
       "    </tr>\n",
       "    <tr>\n",
       "      <th>5</th>\n",
       "      <td>Wed, 26 Mar 2025 17:27:00 GMT</td>\n",
       "      <td>NPR and PBS testify in heated hearing of Marjo...</td>\n",
       "      <td>CBMifEFVX3lxTE1iTFFDTFR3RXB3OHA3OEZSOUhyUFhiUH...</td>\n",
       "      <td>0.0000</td>\n",
       "    </tr>\n",
       "    <tr>\n",
       "      <th>6</th>\n",
       "      <td>Wed, 26 Mar 2025 22:41:00 GMT</td>\n",
       "      <td>Democrats take hope from upset win in a GOP-le...</td>\n",
       "      <td>CBMisAFBVV95cUxPemVEV0dRYmdzVHIzUUtpNUVKLU00QV...</td>\n",
       "      <td>0.8000</td>\n",
       "    </tr>\n",
       "    <tr>\n",
       "      <th>7</th>\n",
       "      <td>Wed, 26 Mar 2025 18:11:10 GMT</td>\n",
       "      <td>Luigi Mangione Was Sent Socks With Heart-Shape...</td>\n",
       "      <td>CBMihgFBVV95cUxPcUM5eHc4N1BfdnJyQkw2cmZPdEJwYX...</td>\n",
       "      <td>0.1364</td>\n",
       "    </tr>\n",
       "    <tr>\n",
       "      <th>8</th>\n",
       "      <td>Wed, 26 Mar 2025 09:33:45 GMT</td>\n",
       "      <td>Trump signs new executive order to change elec...</td>\n",
       "      <td>CBMirwFBVV95cUxPV3FKSjdvc3lneWZxdDhJMTUxcFhpR2...</td>\n",
       "      <td>0.0682</td>\n",
       "    </tr>\n",
       "    <tr>\n",
       "      <th>9</th>\n",
       "      <td>Wed, 26 Mar 2025 20:28:24 GMT</td>\n",
       "      <td>Denmark welcomes US decision to skip Greenland...</td>\n",
       "      <td>CBMilgFBVV95cUxNRTV1QnVNb2t3aFhZMEczcWJ2NW10ek...</td>\n",
       "      <td>0.0000</td>\n",
       "    </tr>\n",
       "  </tbody>\n",
       "</table>\n",
       "</div>"
      ],
      "text/plain": [
       "                       timestamp  \\\n",
       "0  Wed, 26 Mar 2025 19:46:07 GMT   \n",
       "1  Wed, 26 Mar 2025 20:59:44 GMT   \n",
       "2  Wed, 26 Mar 2025 19:49:56 GMT   \n",
       "3  Wed, 26 Mar 2025 17:22:00 GMT   \n",
       "4  Wed, 26 Mar 2025 22:29:03 GMT   \n",
       "5  Wed, 26 Mar 2025 17:27:00 GMT   \n",
       "6  Wed, 26 Mar 2025 22:41:00 GMT   \n",
       "7  Wed, 26 Mar 2025 18:11:10 GMT   \n",
       "8  Wed, 26 Mar 2025 09:33:45 GMT   \n",
       "9  Wed, 26 Mar 2025 20:28:24 GMT   \n",
       "\n",
       "                                            headline  \\\n",
       "0  'F-18s LAUNCH': Atlantic publishes purported Y...   \n",
       "1  Alien Enemies Act deportations blocked by appe...   \n",
       "2  Tufts international graduate student taken int...   \n",
       "3  Trump administration pulls back billions in Co...   \n",
       "4  Trump floats tariff reduction if China agrees ...   \n",
       "5  NPR and PBS testify in heated hearing of Marjo...   \n",
       "6  Democrats take hope from upset win in a GOP-le...   \n",
       "7  Luigi Mangione Was Sent Socks With Heart-Shape...   \n",
       "8  Trump signs new executive order to change elec...   \n",
       "9  Denmark welcomes US decision to skip Greenland...   \n",
       "\n",
       "                                                link  sentiment  \n",
       "0  CBMiqAFBVV95cUxPdFBWcldkdnJodXFCQWp6YVBJSGZlV1...     0.0000  \n",
       "1  CBMigAFBVV95cUxONDlSbGtZbC1CS0VwbUU4VjQxOWJLUV...    -0.2500  \n",
       "2  CBMipAFBVV95cUxPbUI2Z1V6N0VxNEUxUUkteTZaeHd0dj...     0.0000  \n",
       "3  CBMijgFBVV95cUxNbnNtZk1nQmZlZXRvd0pXOEhtLTFoOV...     0.0000  \n",
       "4  CBMiuwFBVV95cUxQYzYtSXBGc2ZidGZCQXhUNnBPZTVNUl...     0.0000  \n",
       "5  CBMifEFVX3lxTE1iTFFDTFR3RXB3OHA3OEZSOUhyUFhiUH...     0.0000  \n",
       "6  CBMisAFBVV95cUxPemVEV0dRYmdzVHIzUUtpNUVKLU00QV...     0.8000  \n",
       "7  CBMihgFBVV95cUxPcUM5eHc4N1BfdnJyQkw2cmZPdEJwYX...     0.1364  \n",
       "8  CBMirwFBVV95cUxPV3FKSjdvc3lneWZxdDhJMTUxcFhpR2...     0.0682  \n",
       "9  CBMilgFBVV95cUxNRTV1QnVNb2t3aFhZMEczcWJ2NW10ek...     0.0000  "
      ]
     },
     "execution_count": 58,
     "metadata": {},
     "output_type": "execute_result"
    }
   ],
   "source": [
    "df_news = scrape_google_news()\n",
    "df_news.head(10)"
   ]
  },
  {
   "cell_type": "markdown",
   "id": "4dc37d98-10a4-4718-a65c-1232d5decead",
   "metadata": {},
   "source": [
    "## Save Results to CSV"
   ]
  },
  {
   "cell_type": "code",
   "execution_count": 59,
   "id": "8d344f7a-7ac1-44b4-80dd-d2f882e80410",
   "metadata": {},
   "outputs": [
    {
     "name": "stdout",
     "output_type": "stream",
     "text": [
      "✅ News data saved to 'scraped_google_news.csv'\n"
     ]
    }
   ],
   "source": [
    "df_news.to_csv(\"scraped_google_news.csv\", index=False)\n",
    "print(\"✅ News data saved to 'scraped_google_news.csv'\")"
   ]
  },
  {
   "cell_type": "markdown",
   "id": "1d8244e6-a591-4fc6-a94a-dcd8acb66d23",
   "metadata": {},
   "source": [
    "# Visualization Setup"
   ]
  },
  {
   "cell_type": "markdown",
   "id": "f77d8bc4-c74c-46bf-9bab-49a5268fa242",
   "metadata": {},
   "source": [
    "## 📊 Sentiment Visualization in Python\n",
    "\n",
    "In this section, we use Python libraries `matplotlib` and `seaborn` to visualize the sentiment scores of news headlines scraped from Google News RSS.\n",
    "\n",
    "We explore:\n",
    "- Distribution of sentiment polarity\n",
    "- Overall sentiment breakdown (positive, neutral, negative)\n",
    "- Top headlines with strongest sentiments\n"
   ]
  },
  {
   "cell_type": "code",
   "execution_count": 61,
   "id": "26e91f4d-02d5-45b9-ab33-9c9c05b62d86",
   "metadata": {},
   "outputs": [],
   "source": [
    "import matplotlib.pyplot as plt\n",
    "import seaborn as sns\n",
    "\n",
    "sns.set(style=\"whitegrid\")"
   ]
  },
  {
   "cell_type": "markdown",
   "id": "3d529aa9-2fd1-412a-bce4-c7214f80abbc",
   "metadata": {},
   "source": [
    "## Histogram of Sentiment Scores"
   ]
  },
  {
   "cell_type": "code",
   "execution_count": 62,
   "id": "b586438e-a520-4d2b-9f71-2cf43099cb13",
   "metadata": {},
   "outputs": [
    {
     "data": {
      "image/png": "[encoded data removed]",
      "text/plain": [
       "<Figure size 1000x600 with 1 Axes>"
      ]
     },
     "metadata": {},
     "output_type": "display_data"
    }
   ],
   "source": [
    "plt.figure(figsize=(10,6))\n",
    "sns.histplot(df_news['sentiment'], bins=20, kde=True, color='skyblue')\n",
    "plt.title(\"Sentiment Polarity Distribution\")\n",
    "plt.xlabel(\"Polarity Score (-1 = Negative, 1 = Positive)\")\n",
    "plt.ylabel(\"Number of Headlines\")\n",
    "plt.show()"
   ]
  },
  {
   "cell_type": "markdown",
   "id": "8967f8c2-f4ec-437e-8991-b2e201c1b370",
   "metadata": {},
   "source": [
    "### 📈 Sentiment Polarity Distribution\n",
    "\n",
    "This histogram shows how sentiment scores (ranging from -1 to +1) are distributed across the scraped headlines. A score of:\n",
    "- `> 0` indicates positive sentiment\n",
    "- `< 0` indicates negative sentiment\n",
    "- `= 0` or near 0 represents neutrality\n",
    "\n",
    "The KDE curve helps us understand the underlying distribution pattern."
   ]
  },
  {
   "cell_type": "markdown",
   "id": "fbe5b38b-4531-4b15-b9f5-589ed8100ad9",
   "metadata": {},
   "source": [
    "## Sentiment Categories"
   ]
  },
  {
   "cell_type": "code",
   "execution_count": 63,
   "id": "b21c5672-96c8-48ae-861e-1d48ad0effe2",
   "metadata": {},
   "outputs": [
    {
     "data": {
      "image/png": "[encoded data removed]",
      "text/plain": [
       "<Figure size 600x600 with 1 Axes>"
      ]
     },
     "metadata": {},
     "output_type": "display_data"
    }
   ],
   "source": [
    "def categorize_sentiment(score):\n",
    "    if score > 0.1:\n",
    "        return \"Positive\"\n",
    "    elif score < -0.1:\n",
    "        return \"Negative\"\n",
    "    else:\n",
    "        return \"Neutral\"\n",
    "\n",
    "df_news[\"category\"] = df_news[\"sentiment\"].apply(categorize_sentiment)\n",
    "sentiment_counts = df_news[\"category\"].value_counts()\n",
    "\n",
    "# Plot\n",
    "plt.figure(figsize=(6,6))\n",
    "plt.pie(sentiment_counts, labels=sentiment_counts.index, autopct='%1.1f%%', startangle=140)\n",
    "plt.title(\"Sentiment Category Breakdown\")\n",
    "plt.axis('equal')\n",
    "plt.show()"
   ]
  },
  {
   "cell_type": "markdown",
   "id": "db11f916-75ec-415c-bb22-2af1d04e6eeb",
   "metadata": {},
   "source": [
    "### 🥧 Sentiment Breakdown\n",
    "\n",
    "To simplify interpretation, sentiment scores were categorized as:\n",
    "- Positive (`> 0.1`)\n",
    "- Negative (`< -0.1`)\n",
    "- Neutral (`between -0.1 and 0.1`)\n",
    "\n",
    "This pie chart shows the percentage of headlines falling into each category.\n"
   ]
  },
  {
   "cell_type": "code",
   "execution_count": 64,
   "id": "ce3ae3be-b768-471c-be14-9164a9365e28",
   "metadata": {},
   "outputs": [
    {
     "name": "stdout",
     "output_type": "stream",
     "text": [
      "🟢 Top 10 Most Positive Headlines:\n",
      "\n",
      "                                             headline  sentiment\n",
      "31  Neptune’s auroras are captured in great detail...     0.8000\n",
      "6   Democrats take hope from upset win in a GOP-le...     0.8000\n",
      "17  Dollar Tree says it's winning over higher-inco...     0.5000\n",
      "22  Every ‘X-Men’ Actor in the ‘Avengers: Doomsday...     0.5000\n",
      "29  Houston coach Kelvin Sampson is winning after ...     0.5000\n",
      "30  Supermoon This Week Will Coincide With Rare 'D...     0.3000\n",
      "27  2025 NCAA Tournament bracket: Sweet 16 predict...     0.2833\n",
      "36  Measles case confirmed in DC, individual may h...     0.2000\n",
      "34  Measles quickly spreading in Kansas counties w...     0.1667\n",
      "15  Stock futures fall as investors weigh Trump's ...     0.1364\n",
      "\n",
      "🔴 Top 10 Most Negative Headlines:\n",
      "\n",
      "                                             headline  sentiment\n",
      "23  ‘The Studio’ Bosses Evan Goldberg And Seth Rog...    -0.5000\n",
      "21  Some Google Pixel owners reporting failed alar...    -0.5000\n",
      "37  Is pollen season in SC worse this year? Here’s...    -0.4000\n",
      "20  Apple’s base iPad didn’t get AI, and this char...    -0.4000\n",
      "12  What to know about Pituffik, the only U.S. mil...    -0.3000\n",
      "1   Alien Enemies Act deportations blocked by appe...    -0.2500\n",
      "13  Four U.S. soldiers killed during training in L...    -0.2000\n",
      "11  At least 24 dead as wildfires ravage southern ...    -0.1667\n",
      "35  HHS taps anti-vaccine activist to look at debu...     0.0000\n",
      "33  NASA Statement on Nomination of Greg Autry for...     0.0000\n"
     ]
    }
   ],
   "source": [
    "print(\"🟢 Top 10 Most Positive Headlines:\\n\")\n",
    "print(df_news.sort_values(\"sentiment\", ascending=False)[[\"headline\", \"sentiment\"]].head(10))\n",
    "\n",
    "print(\"\\n🔴 Top 10 Most Negative Headlines:\\n\")\n",
    "print(df_news.sort_values(\"sentiment\")[[\"headline\", \"sentiment\"]].head(10))"
   ]
  },
  {
   "cell_type": "code",
   "execution_count": null,
   "id": "6e94ef8d-7824-4673-ba3b-ea9572ac336e",
   "metadata": {},
   "outputs": [],
   "source": []
  }
 ],
 "metadata": {
  "kernelspec": {
   "display_name": "Python 3 (ipykernel)",
   "language": "python",
   "name": "python3"
  },
  "language_info": {
   "codemirror_mode": {
    "name": "ipython",
    "version": 3
   },
   "file_extension": ".py",
   "mimetype": "text/x-python",
   "name": "python",
   "nbconvert_exporter": "python",
   "pygments_lexer": "ipython3",
   "version": "3.11.0"
  }
 },
 "nbformat": 4,
 "nbformat_minor": 5
}
